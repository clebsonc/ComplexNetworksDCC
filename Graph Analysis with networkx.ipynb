{
 "cells": [
  {
   "cell_type": "markdown",
   "metadata": {},
   "source": [
    "## Importing Libraries"
   ]
  },
  {
   "cell_type": "code",
   "execution_count": 1,
   "metadata": {
    "collapsed": true
   },
   "outputs": [],
   "source": [
    "import networkx as nx\n",
    "import matplotlib.pyplot as plt\n",
    "plt.style.use('classic')\n",
    "%matplotlib inline\n",
    "import seaborn as sb\n",
    "import pandas as pd"
   ]
  },
  {
   "cell_type": "markdown",
   "metadata": {},
   "source": [
    "## Reading Some Graphs"
   ]
  },
  {
   "cell_type": "code",
   "execution_count": 2,
   "metadata": {
    "collapsed": true
   },
   "outputs": [],
   "source": [
    "g = nx.read_edgelist('./Email-EuAll.txt', comments=\"#\", delimiter=\"\\t\", create_using=nx.DiGraph())"
   ]
  },
  {
   "cell_type": "markdown",
   "metadata": {},
   "source": [
    "## Node Degree\n",
    "\n",
    "The node degree of an node follows two properties:\n",
    "* Undirected Graph: Is the amount of edges that connect a node $k_{i}$ to its neighbors.\n",
    "* Directed Graph: Is the amount of incoming and outgoing edges of a Node. Thus the degree of a node is $k_i=k_{i}^{out}+k_{i}^{in}$.\n",
    "\n",
    "To retrieve the degree of each node is quite simple, the only thing necessary is to call the built-in function of `networkx.degree()` passing as parameter the graph representation of just calling the built-in function of the graph as `g.degree()`. By doing so, a dictionary containing the degree of all nodes is returned:\n"
   ]
  },
  {
   "cell_type": "code",
   "execution_count": 3,
   "metadata": {
    "collapsed": false
   },
   "outputs": [
    {
     "data": {
      "text/plain": [
       "{'0': 15,\n",
       " '1': 1144,\n",
       " '4': 219,\n",
       " '5': 317,\n",
       " '8': 53,\n",
       " '11': 155,\n",
       " '20': 412,\n",
       " '48': 436,\n",
       " '130': 297,\n",
       " '160': 424,\n",
       " '430': 102,\n",
       " '668': 515,\n",
       " '736': 182,\n",
       " '3612': 58,\n",
       " '4252': 79,\n",
       " '16687': 46,\n",
       " '44': 419,\n",
       " '50': 851,\n",
       " '56': 1419,\n",
       " '98': 7,\n",
       " '99': 415,\n",
       " '106': 536,\n",
       " '146': 978,\n",
       " '147': 2055,\n",
       " '149': 896,\n",
       " '158': 1791,\n",
       " '171': 850,\n",
       " '175': 1600,\n",
       " '184': 506,\n",
       " '206': 1007,\n",
       " '259': 485,\n",
       " '333': 1140,\n",
       " '336': 740,\n",
       " '392': 1808,\n",
       " '397': 491,\n",
       " '406': 2142,\n",
       " '422': 6436,\n",
       " '446': 365,\n",
       " '457': 528,\n",
       " '585': 139,\n",
       " '602': 1765,\n",
       " '620': 510,\n",
       " '640': 1625,\n",
       " '732': 6,\n",
       " '733': 217,\n",
       " '779': 1753,\n",
       " '841': 405,\n",
       " '1033': 913,\n",
       " '1118': 949,\n",
       " '1261': 3,\n",
       " '1262': 168,\n",
       " '1290': 9,\n",
       " '1370': 761,\n",
       " '1425': 430,\n",
       " '1458': 224,\n",
       " '1515': 792,\n",
       " '1518': 147,\n",
       " '1521': 24,\n",
       " '1546': 11,\n",
       " '1619': 387,\n",
       " '1623': 557,\n",
       " '1776': 274,\n",
       " '1803': 268,\n",
       " '1966': 3,\n",
       " '1969': 54,\n",
       " '2014': 17,\n",
       " '2037': 28,\n",
       " '2058': 2,\n",
       " '2244': 480,\n",
       " '2356': 6,\n",
       " '2558': 4,\n",
       " '2874': 80,\n",
       " '2924': 3,\n",
       " '3449': 28,\n",
       " '4200': 5,\n",
       " '4681': 2,\n",
       " '5357': 61,\n",
       " '5592': 18,\n",
       " '5726': 61,\n",
       " '6044': 1,\n",
       " '6119': 285,\n",
       " '6962': 4,\n",
       " '7719': 2,\n",
       " '7723': 1,\n",
       " '7817': 5,\n",
       " '7998': 10,\n",
       " '8027': 10,\n",
       " '8109': 3,\n",
       " '8244': 54,\n",
       " '9394': 151,\n",
       " '14402': 6,\n",
       " '14507': 11,\n",
       " '15162': 2,\n",
       " '15439': 17,\n",
       " '16393': 1,\n",
       " '17166': 11,\n",
       " '19459': 4,\n",
       " '19578': 37,\n",
       " '20587': 6,\n",
       " '20833': 2,\n",
       " '21290': 12,\n",
       " '21442': 441,\n",
       " '22604': 2,\n",
       " '23384': 2,\n",
       " '23659': 2,\n",
       " '23783': 237,\n",
       " '23927': 5,\n",
       " '24137': 4,\n",
       " '24339': 2,\n",
       " '24466': 4,\n",
       " '26034': 54,\n",
       " '26354': 10,\n",
       " '27008': 6,\n",
       " '29534': 2,\n",
       " '30331': 426,\n",
       " '33287': 20,\n",
       " '33976': 1,\n",
       " '34212': 6,\n",
       " '34609': 20,\n",
       " '34630': 2,\n",
       " '34638': 2,\n",
       " '34710': 1,\n",
       " '34792': 2,\n",
       " '38060': 1,\n",
       " '38300': 60,\n",
       " '39437': 13,\n",
       " '39527': 2,\n",
       " '39532': 7,\n",
       " '39811': 2,\n",
       " '40430': 2,\n",
       " '40996': 1,\n",
       " '41040': 2,\n",
       " '42064': 51,\n",
       " '44877': 16,\n",
       " '45382': 2,\n",
       " '45461': 1,\n",
       " '48364': 19,\n",
       " '55144': 4,\n",
       " '55254': 14,\n",
       " '55820': 2,\n",
       " '59020': 27,\n",
       " '60576': 439,\n",
       " '63349': 2,\n",
       " '68370': 7,\n",
       " '69668': 10,\n",
       " '71303': 48,\n",
       " '74996': 5,\n",
       " '75557': 7,\n",
       " '75912': 810,\n",
       " '76060': 16,\n",
       " '78909': 3,\n",
       " '80266': 130,\n",
       " '85096': 1,\n",
       " '87870': 59,\n",
       " '89035': 85,\n",
       " '90487': 4,\n",
       " '92476': 474,\n",
       " '100276': 1,\n",
       " '102786': 8,\n",
       " '106504': 2,\n",
       " '112537': 16,\n",
       " '116750': 2,\n",
       " '118111': 1,\n",
       " '118141': 1,\n",
       " '118143': 2,\n",
       " '118336': 485,\n",
       " '119805': 2,\n",
       " '120469': 1,\n",
       " '121775': 2,\n",
       " '123130': 1,\n",
       " '123137': 2,\n",
       " '124889': 30,\n",
       " '126059': 5,\n",
       " '131939': 1,\n",
       " '132953': 2,\n",
       " '133046': 3,\n",
       " '133980': 3,\n",
       " '138471': 8,\n",
       " '147103': 5,\n",
       " '149018': 4,\n",
       " '149492': 1,\n",
       " '152509': 4,\n",
       " '152515': 2,\n",
       " '153875': 2,\n",
       " '154107': 2,\n",
       " '154878': 2,\n",
       " '155056': 2,\n",
       " '156456': 1,\n",
       " '156589': 2,\n",
       " '159346': 2,\n",
       " '161731': 2,\n",
       " '162025': 2,\n",
       " '164711': 2,\n",
       " '165851': 8,\n",
       " '166080': 1,\n",
       " '166461': 1,\n",
       " '166670': 2,\n",
       " '169210': 2,\n",
       " '170928': 8,\n",
       " '171259': 4,\n",
       " '171684': 2,\n",
       " '171937': 2,\n",
       " '171958': 1,\n",
       " '174815': 2,\n",
       " '176190': 2,\n",
       " '176396': 57,\n",
       " '176450': 2,\n",
       " '177363': 3,\n",
       " '177653': 2,\n",
       " '177659': 4,\n",
       " '177841': 6,\n",
       " '178424': 2,\n",
       " '178546': 1,\n",
       " '178562': 2,\n",
       " '178706': 1,\n",
       " '180487': 29,\n",
       " '181275': 2,\n",
       " '182927': 1,\n",
       " '188390': 4,\n",
       " '189573': 1,\n",
       " '189576': 1,\n",
       " '189577': 2,\n",
       " '189587': 2,\n",
       " '190518': 1,\n",
       " '190767': 1,\n",
       " '191825': 2,\n",
       " '198971': 3,\n",
       " '204314': 2,\n",
       " '214708': 2,\n",
       " '216812': 1,\n",
       " '218391': 7,\n",
       " '218757': 3,\n",
       " '220502': 56,\n",
       " '220570': 2,\n",
       " '220933': 2,\n",
       " '221270': 2,\n",
       " '221402': 1,\n",
       " '221403': 2,\n",
       " '222427': 1,\n",
       " '225795': 4,\n",
       " '226362': 3,\n",
       " '226381': 3,\n",
       " '229913': 2,\n",
       " '234502': 1,\n",
       " '234973': 1,\n",
       " '240052': 4,\n",
       " '240426': 2,\n",
       " '242495': 2,\n",
       " '242826': 15,\n",
       " '245501': 2,\n",
       " '246804': 1,\n",
       " '250192': 4,\n",
       " '250222': 1,\n",
       " '250353': 1,\n",
       " '253031': 2,\n",
       " '256213': 2,\n",
       " '256674': 2,\n",
       " '257105': 1,\n",
       " '258284': 6,\n",
       " '258560': 2,\n",
       " '259744': 8,\n",
       " '260325': 1,\n",
       " '261079': 1,\n",
       " '264679': 2,\n",
       " '2': 1,\n",
       " '3': 756,\n",
       " '10': 2115,\n",
       " '313': 694,\n",
       " '314': 649,\n",
       " '347': 134,\n",
       " '388': 498,\n",
       " '389': 917,\n",
       " '509': 540,\n",
       " '510': 847,\n",
       " '653': 10,\n",
       " '808': 361,\n",
       " '1011': 641,\n",
       " '1043': 131,\n",
       " '1085': 1570,\n",
       " '1184': 5,\n",
       " '1345': 292,\n",
       " '1417': 1152,\n",
       " '1696': 154,\n",
       " '1869': 7,\n",
       " '1973': 321,\n",
       " '2045': 236,\n",
       " '2301': 5,\n",
       " '3932': 1,\n",
       " '4535': 2,\n",
       " '5646': 23,\n",
       " '6424': 224,\n",
       " '7926': 2,\n",
       " '8179': 1,\n",
       " '8508': 2,\n",
       " '13506': 47,\n",
       " '14747': 7,\n",
       " '15088': 2,\n",
       " '16176': 2,\n",
       " '16580': 2,\n",
       " '17071': 2,\n",
       " '18088': 2,\n",
       " '18457': 26,\n",
       " '18783': 4,\n",
       " '19673': 4,\n",
       " '20672': 9,\n",
       " '20836': 2,\n",
       " '21393': 4,\n",
       " '21396': 3,\n",
       " '21491': 2,\n",
       " '21847': 2,\n",
       " '21932': 2,\n",
       " '22181': 2,\n",
       " '25476': 4,\n",
       " '26092': 2,\n",
       " '26254': 1,\n",
       " '26259': 1,\n",
       " '26260': 2,\n",
       " '26263': 1,\n",
       " '26269': 2,\n",
       " '26278': 2,\n",
       " '26283': 1,\n",
       " '26955': 1,\n",
       " '28112': 16,\n",
       " '29739': 4,\n",
       " '30373': 54,\n",
       " '31080': 20,\n",
       " '31965': 2,\n",
       " '34577': 1,\n",
       " '34776': 2,\n",
       " '34846': 2,\n",
       " '36171': 6,\n",
       " '36831': 1,\n",
       " '36957': 8,\n",
       " '37203': 2,\n",
       " '37319': 2,\n",
       " '37522': 2,\n",
       " '37557': 1,\n",
       " '37571': 2,\n",
       " '38079': 4,\n",
       " '39085': 2,\n",
       " '40030': 2,\n",
       " '41136': 9,\n",
       " '41247': 4,\n",
       " '41533': 2,\n",
       " '41555': 2,\n",
       " '42684': 8,\n",
       " '42694': 2,\n",
       " '42877': 2,\n",
       " '43795': 2,\n",
       " '44574': 2,\n",
       " '45771': 2,\n",
       " '46064': 2,\n",
       " '46441': 2,\n",
       " '47049': 4,\n",
       " '48361': 4,\n",
       " '49478': 1,\n",
       " '49869': 2,\n",
       " '51980': 2,\n",
       " '54959': 2,\n",
       " '57206': 4,\n",
       " '57216': 2,\n",
       " '58529': 2,\n",
       " '59950': 2,\n",
       " '61506': 1,\n",
       " '63137': 2,\n",
       " '63603': 2,\n",
       " '67740': 2,\n",
       " '68212': 2,\n",
       " '68431': 2,\n",
       " '68492': 2,\n",
       " '68928': 2,\n",
       " '70737': 4,\n",
       " '72558': 2,\n",
       " '75407': 2,\n",
       " '76810': 2,\n",
       " '76922': 2,\n",
       " '77837': 2,\n",
       " '79079': 2,\n",
       " '79714': 2,\n",
       " '79935': 2,\n",
       " '81350': 2,\n",
       " '81436': 3,\n",
       " '82702': 2,\n",
       " '82783': 2,\n",
       " '83230': 2,\n",
       " '83426': 1,\n",
       " '83427': 1,\n",
       " '83621': 2,\n",
       " '83896': 2,\n",
       " '84541': 1,\n",
       " '84780': 2,\n",
       " '85639': 2,\n",
       " '87426': 2,\n",
       " '88075': 2,\n",
       " '88102': 1,\n",
       " '90352': 2,\n",
       " '90921': 2,\n",
       " '91045': 3,\n",
       " '91528': 2,\n",
       " '91589': 2,\n",
       " '91732': 2,\n",
       " '93046': 1,\n",
       " '93124': 2,\n",
       " '93132': 2,\n",
       " '93764': 2,\n",
       " '94328': 2,\n",
       " '94468': 2,\n",
       " '95943': 2,\n",
       " '96600': 1,\n",
       " '97912': 2,\n",
       " '99112': 2,\n",
       " '99209': 2,\n",
       " '101587': 5,\n",
       " '102194': 2,\n",
       " '103388': 2,\n",
       " '103414': 2,\n",
       " '104845': 1,\n",
       " '105853': 1,\n",
       " '106493': 2,\n",
       " '106950': 4,\n",
       " '108105': 2,\n",
       " '109314': 2,\n",
       " '112497': 2,\n",
       " '112637': 2,\n",
       " '112790': 2,\n",
       " '112868': 2,\n",
       " '113012': 2,\n",
       " '115479': 66,\n",
       " '115570': 2,\n",
       " '116113': 2,\n",
       " '116547': 2,\n",
       " '116913': 1,\n",
       " '119500': 2,\n",
       " '120726': 2,\n",
       " '121611': 2,\n",
       " '121662': 1,\n",
       " '123003': 4,\n",
       " '128071': 2,\n",
       " '128243': 2,\n",
       " '130362': 2,\n",
       " '130895': 2,\n",
       " '131557': 2,\n",
       " '134313': 2,\n",
       " '135301': 2,\n",
       " '136097': 1,\n",
       " '137160': 2,\n",
       " '137238': 2,\n",
       " '140294': 2,\n",
       " '142169': 2,\n",
       " '142705': 2,\n",
       " '142742': 2,\n",
       " '144437': 2,\n",
       " '145766': 2,\n",
       " '145986': 2,\n",
       " '146749': 2,\n",
       " '148061': 2,\n",
       " '148091': 2,\n",
       " '148217': 2,\n",
       " '148890': 2,\n",
       " '150199': 2,\n",
       " '151073': 2,\n",
       " '151323': 2,\n",
       " '151493': 2,\n",
       " '152041': 1,\n",
       " '152691': 2,\n",
       " '152842': 2,\n",
       " '152931': 2,\n",
       " '154652': 2,\n",
       " '156915': 2,\n",
       " '157008': 2,\n",
       " '157488': 2,\n",
       " '158379': 4,\n",
       " '158565': 1,\n",
       " '159179': 2,\n",
       " '159885': 2,\n",
       " '160937': 4,\n",
       " '161434': 2,\n",
       " '161712': 2,\n",
       " '161874': 2,\n",
       " '162144': 2,\n",
       " '162548': 2,\n",
       " '162772': 1,\n",
       " '163382': 3,\n",
       " '163894': 2,\n",
       " '166993': 2,\n",
       " '167807': 2,\n",
       " '168388': 13,\n",
       " '168500': 2,\n",
       " '169001': 2,\n",
       " '169540': 2,\n",
       " '170783': 1,\n",
       " '170982': 2,\n",
       " '171927': 4,\n",
       " '172308': 2,\n",
       " '174392': 2,\n",
       " '174557': 2,\n",
       " '174843': 2,\n",
       " '175417': 2,\n",
       " '175464': 2,\n",
       " '175992': 1,\n",
       " '179142': 2,\n",
       " '179323': 2,\n",
       " '179391': 2,\n",
       " '180091': 2,\n",
       " '180657': 2,\n",
       " '181675': 4,\n",
       " '183072': 2,\n",
       " '183093': 2,\n",
       " '183376': 2,\n",
       " '183853': 6,\n",
       " '185045': 2,\n",
       " '185249': 1,\n",
       " '185681': 2,\n",
       " '186936': 2,\n",
       " '187073': 1,\n",
       " '188151': 4,\n",
       " '189805': 2,\n",
       " '190231': 2,\n",
       " '192150': 2,\n",
       " '192304': 2,\n",
       " '193279': 2,\n",
       " '194570': 2,\n",
       " '197863': 2,\n",
       " '198475': 2,\n",
       " '198482': 2,\n",
       " '199752': 2,\n",
       " '199766': 2,\n",
       " '201298': 19,\n",
       " '203481': 2,\n",
       " '203751': 2,\n",
       " '205083': 2,\n",
       " '206092': 2,\n",
       " '206648': 2,\n",
       " '207031': 2,\n",
       " '207609': 2,\n",
       " '212781': 2,\n",
       " '213294': 2,\n",
       " '213978': 2,\n",
       " '218747': 2,\n",
       " '219500': 2,\n",
       " '220356': 2,\n",
       " '222334': 2,\n",
       " '222717': 2,\n",
       " '236678': 1,\n",
       " '249762': 2,\n",
       " '255414': 2,\n",
       " '263806': 1,\n",
       " '26': 194,\n",
       " '47': 104,\n",
       " '59': 212,\n",
       " '143': 507,\n",
       " '292': 1170,\n",
       " '355': 471,\n",
       " '527': 181,\n",
       " '740': 44,\n",
       " '741': 47,\n",
       " '743': 231,\n",
       " '865': 151,\n",
       " '885': 300,\n",
       " '887': 91,\n",
       " '994': 1867,\n",
       " '1119': 612,\n",
       " '1235': 986,\n",
       " '1252': 174,\n",
       " '1253': 194,\n",
       " '1335': 382,\n",
       " '1432': 201,\n",
       " '1722': 460,\n",
       " '1983': 1073,\n",
       " '2089': 117,\n",
       " '2469': 86,\n",
       " '2674': 219,\n",
       " '2926': 23,\n",
       " '2940': 89,\n",
       " '3949': 73,\n",
       " '4114': 104,\n",
       " '4748': 45,\n",
       " '4810': 76,\n",
       " '5881': 19,\n",
       " '6621': 44,\n",
       " '8714': 69,\n",
       " '15959': 4,\n",
       " '16614': 49,\n",
       " '16686': 1,\n",
       " '21059': 5,\n",
       " '21944': 497,\n",
       " '45140': 12,\n",
       " '95583': 11,\n",
       " '111142': 106,\n",
       " '234141': 2,\n",
       " '6': 1,\n",
       " '7': 127,\n",
       " '385': 155,\n",
       " '2159': 47,\n",
       " '2368': 2,\n",
       " '3393': 2,\n",
       " '3644': 4,\n",
       " '5034': 105,\n",
       " '5326': 156,\n",
       " '8220': 6,\n",
       " '18090': 2,\n",
       " '85685': 1,\n",
       " '86389': 1,\n",
       " '87005': 1,\n",
       " '89532': 2,\n",
       " '110485': 2,\n",
       " '118780': 1,\n",
       " '124319': 1,\n",
       " '171018': 1,\n",
       " '9': 2,\n",
       " '17521': 2,\n",
       " '30': 6145,\n",
       " '34': 871,\n",
       " '35': 1043,\n",
       " '37': 329,\n",
       " '38': 1,\n",
       " '65': 435,\n",
       " '73': 3,\n",
       " '77': 290,\n",
       " '87': 288,\n",
       " '94': 199,\n",
       " '97': 433,\n",
       " '107': 665,\n",
       " '124': 3,\n",
       " '140': 414,\n",
       " '141': 2,\n",
       " '152': 5,\n",
       " '161': 1,\n",
       " '182': 281,\n",
       " '192': 2360,\n",
       " '195': 1301,\n",
       " '198': 6,\n",
       " '202': 1140,\n",
       " '211': 642,\n",
       " '213': 1,\n",
       " '222': 1445,\n",
       " '233': 634,\n",
       " '247': 579,\n",
       " '251': 629,\n",
       " '255': 811,\n",
       " '264': 791,\n",
       " '275': 301,\n",
       " '294': 317,\n",
       " '309': 592,\n",
       " '310': 1088,\n",
       " '328': 719,\n",
       " '366': 2801,\n",
       " '393': 676,\n",
       " '417': 786,\n",
       " '444': 240,\n",
       " '467': 1283,\n",
       " '485': 3211,\n",
       " '493': 889,\n",
       " '500': 751,\n",
       " '505': 292,\n",
       " '512': 407,\n",
       " '535': 330,\n",
       " '595': 223,\n",
       " '605': 275,\n",
       " '615': 470,\n",
       " '626': 705,\n",
       " '628': 119,\n",
       " '634': 411,\n",
       " '638': 14,\n",
       " '671': 668,\n",
       " '677': 378,\n",
       " '693': 562,\n",
       " '704': 886,\n",
       " '726': 385,\n",
       " '746': 7,\n",
       " '760': 1094,\n",
       " '784': 723,\n",
       " '788': 446,\n",
       " '795': 503,\n",
       " '818': 1816,\n",
       " '838': 456,\n",
       " '859': 596,\n",
       " '877': 246,\n",
       " '907': 712,\n",
       " '911': 660,\n",
       " '920': 1630,\n",
       " '929': 231,\n",
       " '937': 126,\n",
       " '949': 657,\n",
       " '957': 200,\n",
       " '972': 754,\n",
       " '991': 224,\n",
       " '999': 169,\n",
       " '1001': 1029,\n",
       " '1010': 1029,\n",
       " '1070': 299,\n",
       " '1113': 199,\n",
       " '1117': 268,\n",
       " '1127': 463,\n",
       " '1175': 222,\n",
       " '1188': 220,\n",
       " '1191': 180,\n",
       " '1238': 548,\n",
       " '1240': 882,\n",
       " '1241': 471,\n",
       " '1247': 443,\n",
       " '1289': 217,\n",
       " '1293': 635,\n",
       " '1297': 16,\n",
       " '1298': 860,\n",
       " '1300': 208,\n",
       " '1306': 4,\n",
       " '1309': 541,\n",
       " '1319': 252,\n",
       " '1430': 10,\n",
       " '1436': 355,\n",
       " '1509': 425,\n",
       " '1566': 507,\n",
       " '1572': 657,\n",
       " '1634': 791,\n",
       " '1715': 474,\n",
       " '1773': 397,\n",
       " '1801': 495,\n",
       " '1815': 199,\n",
       " '1844': 731,\n",
       " '1893': 822,\n",
       " '1955': 853,\n",
       " '1985': 161,\n",
       " '2083': 608,\n",
       " '2145': 3,\n",
       " '2296': 264,\n",
       " '2304': 2,\n",
       " '2384': 17,\n",
       " '2427': 34,\n",
       " '2552': 16,\n",
       " '2580': 28,\n",
       " '2631': 2,\n",
       " '2750': 154,\n",
       " '2782': 213,\n",
       " '3009': 25,\n",
       " '3067': 24,\n",
       " '3094': 105,\n",
       " '3111': 40,\n",
       " '3135': 215,\n",
       " '3218': 228,\n",
       " '3285': 10,\n",
       " '3297': 141,\n",
       " '3422': 317,\n",
       " '3474': 245,\n",
       " '3507': 625,\n",
       " '3996': 2,\n",
       " '4006': 4,\n",
       " '4068': 5,\n",
       " '4220': 211,\n",
       " '4253': 18,\n",
       " '4260': 75,\n",
       " '4272': 32,\n",
       " '4672': 163,\n",
       " '4911': 1,\n",
       " '5050': 14,\n",
       " '5073': 13,\n",
       " '5100': 14,\n",
       " '5213': 171,\n",
       " '5265': 143,\n",
       " '5290': 2,\n",
       " '5382': 39,\n",
       " '5385': 24,\n",
       " '5401': 35,\n",
       " '5439': 37,\n",
       " '5440': 216,\n",
       " '5718': 187,\n",
       " '5725': 17,\n",
       " '5809': 33,\n",
       " '5835': 2,\n",
       " '5961': 86,\n",
       " '6173': 2,\n",
       " '6422': 18,\n",
       " '6490': 2,\n",
       " '6590': 5,\n",
       " '7117': 100,\n",
       " '7441': 1,\n",
       " '8285': 18,\n",
       " '8414': 4,\n",
       " '8520': 4,\n",
       " '8664': 3,\n",
       " '8805': 11,\n",
       " '8854': 103,\n",
       " '9015': 90,\n",
       " '9373': 2,\n",
       " '9585': 7,\n",
       " '12747': 36,\n",
       " '13201': 2,\n",
       " '13345': 7,\n",
       " '13524': 37,\n",
       " '13991': 48,\n",
       " '14188': 5,\n",
       " '14193': 19,\n",
       " '14590': 2,\n",
       " '15344': 20,\n",
       " '15454': 12,\n",
       " '15476': 2,\n",
       " '15547': 27,\n",
       " '15610': 2,\n",
       " '15624': 14,\n",
       " '15795': 64,\n",
       " '16196': 41,\n",
       " '16859': 2,\n",
       " '17176': 2,\n",
       " '17304': 2,\n",
       " '17803': 4,\n",
       " '17837': 24,\n",
       " '18581': 2,\n",
       " '18718': 1,\n",
       " '18831': 325,\n",
       " '18868': 1,\n",
       " '19005': 33,\n",
       " '19183': 2,\n",
       " '19202': 1,\n",
       " '19216': 3,\n",
       " '19336': 7,\n",
       " '19469': 2,\n",
       " '19555': 17,\n",
       " '19993': 5,\n",
       " '20107': 4,\n",
       " '20351': 4,\n",
       " '20516': 2,\n",
       " '20854': 1,\n",
       " '20960': 2,\n",
       " '21061': 2,\n",
       " '21084': 2,\n",
       " '21567': 2,\n",
       " '21619': 3,\n",
       " '22513': 2,\n",
       " '22559': 2,\n",
       " '22712': 2,\n",
       " '23104': 9,\n",
       " '23217': 7,\n",
       " '23572': 2,\n",
       " '23595': 2,\n",
       " '24662': 2,\n",
       " '24805': 2,\n",
       " '25131': 2,\n",
       " '25348': 54,\n",
       " '25634': 2,\n",
       " '25671': 2,\n",
       " '25989': 2,\n",
       " '26358': 4,\n",
       " '26501': 2,\n",
       " '27834': 11,\n",
       " '27947': 2,\n",
       " '28002': 8,\n",
       " '28148': 3,\n",
       " '28149': 5,\n",
       " '28299': 1,\n",
       " '28396': 2,\n",
       " '28405': 2,\n",
       " '28514': 2,\n",
       " '28553': 23,\n",
       " '28702': 3,\n",
       " '29315': 2,\n",
       " '29403': 3,\n",
       " '29680': 4,\n",
       " '29921': 2,\n",
       " '29959': 2,\n",
       " '30089': 2,\n",
       " '30144': 2,\n",
       " '30734': 1,\n",
       " '30800': 1,\n",
       " '30946': 4,\n",
       " '31300': 15,\n",
       " '31348': 2,\n",
       " '31419': 13,\n",
       " '31428': 2,\n",
       " '31934': 99,\n",
       " '32395': 2,\n",
       " '32402': 4,\n",
       " '32481': 2,\n",
       " '32699': 4,\n",
       " '32751': 123,\n",
       " '33117': 2,\n",
       " '33424': 380,\n",
       " '33630': 1,\n",
       " '33732': 1,\n",
       " '33854': 2,\n",
       " '34539': 2,\n",
       " '34897': 2,\n",
       " '35353': 2,\n",
       " '35687': 19,\n",
       " '36237': 4,\n",
       " '36523': 11,\n",
       " '36995': 1,\n",
       " '37259': 1,\n",
       " '37484': 2,\n",
       " '37829': 2,\n",
       " '37953': 1,\n",
       " '38010': 3,\n",
       " '38121': 3,\n",
       " '38704': 2,\n",
       " '38799': 2,\n",
       " '38905': 2,\n",
       " '39039': 4,\n",
       " '39264': 2,\n",
       " '39368': 2,\n",
       " '39492': 4,\n",
       " '39700': 5,\n",
       " '39703': 1,\n",
       " '40432': 2,\n",
       " '40664': 2,\n",
       " '41041': 4,\n",
       " '41230': 32,\n",
       " '41348': 2,\n",
       " '41367': 2,\n",
       " '41561': 1,\n",
       " '42071': 1,\n",
       " '42109': 4,\n",
       " '42131': 1,\n",
       " '42134': 2,\n",
       " '42150': 2,\n",
       " '42328': 2,\n",
       " '42357': 2,\n",
       " '42819': 1,\n",
       " '42828': 2,\n",
       " '42900': 4,\n",
       " '43065': 2,\n",
       " '43141': 6,\n",
       " '43926': 2,\n",
       " '44370': 9,\n",
       " '44436': 1,\n",
       " '44728': 3,\n",
       " '45058': 2,\n",
       " '45817': 2,\n",
       " '45853': 35,\n",
       " '45929': 4,\n",
       " '46955': 2,\n",
       " '47471': 15,\n",
       " '47519': 2,\n",
       " '48274': 2,\n",
       " '48598': 2,\n",
       " '48839': 3,\n",
       " '49596': 2,\n",
       " '49857': 4,\n",
       " '49868': 1,\n",
       " '50548': 3,\n",
       " '50956': 2,\n",
       " '51618': 2,\n",
       " '51731': 2,\n",
       " '52189': 2,\n",
       " '52254': 2,\n",
       " '52489': 1,\n",
       " '52536': 1,\n",
       " '52604': 2,\n",
       " '53571': 2,\n",
       " '53887': 1,\n",
       " '54399': 4,\n",
       " '54616': 25,\n",
       " '55300': 1,\n",
       " '55437': 2,\n",
       " '55927': 2,\n",
       " '55994': 2,\n",
       " '56619': 2,\n",
       " '56811': 2,\n",
       " '57324': 2,\n",
       " '57737': 2,\n",
       " '58725': 2,\n",
       " '58836': 11,\n",
       " '59239': 2,\n",
       " '59248': 2,\n",
       " '59277': 2,\n",
       " '59355': 2,\n",
       " '59392': 2,\n",
       " '59424': 2,\n",
       " '59430': 2,\n",
       " '59965': 2,\n",
       " '59972': 2,\n",
       " '60199': 2,\n",
       " '60207': 1,\n",
       " '60547': 2,\n",
       " '60585': 1,\n",
       " '60610': 1,\n",
       " '60613': 2,\n",
       " '60782': 1,\n",
       " '60902': 3,\n",
       " '61577': 4,\n",
       " '62023': 2,\n",
       " '62356': 3,\n",
       " '63664': 2,\n",
       " '65484': 2,\n",
       " '66002': 2,\n",
       " '66073': 2,\n",
       " '66176': 2,\n",
       " '66239': 3,\n",
       " '66542': 2,\n",
       " '66724': 4,\n",
       " '66954': 2,\n",
       " '66956': 2,\n",
       " '67343': 11,\n",
       " '67399': 4,\n",
       " '67400': 2,\n",
       " '67492': 2,\n",
       " '67568': 2,\n",
       " '67705': 2,\n",
       " '67769': 2,\n",
       " '68020': 2,\n",
       " '68069': 896,\n",
       " '68746': 1,\n",
       " ...}"
      ]
     },
     "execution_count": 3,
     "metadata": {},
     "output_type": "execute_result"
    }
   ],
   "source": [
    "nx.degree(g)"
   ]
  },
  {
   "cell_type": "markdown",
   "metadata": {},
   "source": [
    "# Building a test graph"
   ]
  },
  {
   "cell_type": "code",
   "execution_count": 4,
   "metadata": {
    "collapsed": false
   },
   "outputs": [],
   "source": [
    "gtest  = nx.Graph()"
   ]
  },
  {
   "cell_type": "code",
   "execution_count": 5,
   "metadata": {
    "collapsed": true
   },
   "outputs": [],
   "source": [
    "gtest.add_edge(4, 2)\n",
    "gtest.add_edge(4, 3)\n",
    "gtest.add_edge(3, 2)\n",
    "gtest.add_edge(2, 1)"
   ]
  },
  {
   "cell_type": "markdown",
   "metadata": {},
   "source": [
    "To show the degree for each node of the graph, it's only necessary to use the function graph.degree()."
   ]
  },
  {
   "cell_type": "code",
   "execution_count": 6,
   "metadata": {
    "collapsed": false
   },
   "outputs": [
    {
     "data": {
      "text/html": [
       "<div>\n",
       "<table border=\"1\" class=\"dataframe\">\n",
       "  <thead>\n",
       "    <tr style=\"text-align: right;\">\n",
       "      <th></th>\n",
       "      <th>Degree</th>\n",
       "    </tr>\n",
       "  </thead>\n",
       "  <tbody>\n",
       "    <tr>\n",
       "      <th>1</th>\n",
       "      <td>1</td>\n",
       "    </tr>\n",
       "    <tr>\n",
       "      <th>2</th>\n",
       "      <td>3</td>\n",
       "    </tr>\n",
       "    <tr>\n",
       "      <th>3</th>\n",
       "      <td>2</td>\n",
       "    </tr>\n",
       "    <tr>\n",
       "      <th>4</th>\n",
       "      <td>2</td>\n",
       "    </tr>\n",
       "  </tbody>\n",
       "</table>\n",
       "</div>"
      ],
      "text/plain": [
       "   Degree\n",
       "1       1\n",
       "2       3\n",
       "3       2\n",
       "4       2"
      ]
     },
     "execution_count": 6,
     "metadata": {},
     "output_type": "execute_result"
    }
   ],
   "source": [
    "df = pd.DataFrame(pd.Series(gtest.degree()), columns=[\"Degree\"])\n",
    "df"
   ]
  },
  {
   "cell_type": "code",
   "execution_count": 8,
   "metadata": {
    "collapsed": false
   },
   "outputs": [
    {
     "data": {
      "text/plain": [
       "(array([ 0.25,  0.5 ,  0.25]),\n",
       " array([1, 2, 3, 4]),\n",
       " <a list of 3 Patch objects>)"
      ]
     },
     "execution_count": 8,
     "metadata": {},
     "output_type": "execute_result"
    },
    {
     "data": {
      "image/png": "[encoded data removed]",
      "text/plain": [
       "<matplotlib.figure.Figure at 0x7f70eaf7f400>"
      ]
     },
     "metadata": {},
     "output_type": "display_data"
    }
   ],
   "source": [
    "plt.hist(df.Degree.values, df.Degree.index.values, normed=True, alpha=0.5, bottom=0)"
   ]
  },
  {
   "cell_type": "code",
   "execution_count": 9,
   "metadata": {
    "collapsed": false
   },
   "outputs": [
    {
     "data": {
      "text/plain": [
       "array([1, 2, 3, 4])"
      ]
     },
     "execution_count": 9,
     "metadata": {},
     "output_type": "execute_result"
    }
   ],
   "source": [
    "df.index.values"
   ]
  },
  {
   "cell_type": "markdown",
   "metadata": {},
   "source": [
    "# Clustering Coefficients"
   ]
  },
  {
   "cell_type": "code",
   "execution_count": 10,
   "metadata": {
    "collapsed": false
   },
   "outputs": [
    {
     "name": "stdout",
     "output_type": "stream",
     "text": [
      "Clustering coefficiente for each Node: [0.0, 0.3333333333333333, 1.0, 1.0]\n"
     ]
    }
   ],
   "source": [
    "print(\"Clustering coefficiente for each Node:\", [nx.average_clustering(gtest, nodes=[x]) for x in range(1, 5, 1)])"
   ]
  },
  {
   "cell_type": "code",
   "execution_count": 11,
   "metadata": {
    "collapsed": false
   },
   "outputs": [
    {
     "name": "stdout",
     "output_type": "stream",
     "text": [
      "Clustering coefficient for each Node: {4: 1.0, 2: 0.3333333333333333, 3: 1.0, 1: 0.0}\n"
     ]
    }
   ],
   "source": [
    "print(\"Clustering coefficient for each Node:\", nx.clustering(gtest))"
   ]
  },
  {
   "cell_type": "markdown",
   "metadata": {},
   "source": [
    "## Number of Connected Components\n",
    "To return the number of connected components the function `networkx.number_of_connected_components` is used\n"
   ]
  },
  {
   "cell_type": "code",
   "execution_count": 12,
   "metadata": {
    "collapsed": false
   },
   "outputs": [
    {
     "data": {
      "text/plain": [
       "1"
      ]
     },
     "execution_count": 12,
     "metadata": {},
     "output_type": "execute_result"
    }
   ],
   "source": [
    "nx.number_connected_components(gtest)"
   ]
  },
  {
   "cell_type": "markdown",
   "metadata": {},
   "source": [
    "Adding a few more edges to verify the number of connected components increases."
   ]
  },
  {
   "cell_type": "code",
   "execution_count": 13,
   "metadata": {
    "collapsed": false
   },
   "outputs": [
    {
     "data": {
      "text/plain": [
       "[(4, 2), (4, 3), (2, 3), (2, 1)]"
      ]
     },
     "execution_count": 13,
     "metadata": {},
     "output_type": "execute_result"
    }
   ],
   "source": [
    "gtest.edges()"
   ]
  },
  {
   "cell_type": "code",
   "execution_count": 14,
   "metadata": {
    "collapsed": true
   },
   "outputs": [],
   "source": [
    "gtest.add_edge(5, 6)"
   ]
  },
  {
   "cell_type": "code",
   "execution_count": 15,
   "metadata": {
    "collapsed": false
   },
   "outputs": [
    {
     "data": {
      "text/plain": [
       "2"
      ]
     },
     "execution_count": 15,
     "metadata": {},
     "output_type": "execute_result"
    }
   ],
   "source": [
    "nx.number_connected_components(gtest)"
   ]
  },
  {
   "cell_type": "code",
   "execution_count": 16,
   "metadata": {
    "collapsed": false
   },
   "outputs": [],
   "source": [
    "graphs = list(nx.connected_component_subgraphs(gtest))"
   ]
  },
  {
   "cell_type": "code",
   "execution_count": 17,
   "metadata": {
    "collapsed": false
   },
   "outputs": [
    {
     "name": "stdout",
     "output_type": "stream",
     "text": [
      "[1, 2, 3, 4]\n",
      "[5, 6]\n",
      "4\n",
      "2\n"
     ]
    }
   ],
   "source": [
    "print(graphs[0].nodes())\n",
    "print(graphs[1].nodes())\n",
    "print(len(graphs[0].nodes()))\n",
    "print(len(graphs[1].nodes()))"
   ]
  },
  {
   "cell_type": "markdown",
   "metadata": {},
   "source": [
    "## Betweenness Centrality"
   ]
  },
  {
   "cell_type": "code",
   "execution_count": 18,
   "metadata": {
    "collapsed": false
   },
   "outputs": [
    {
     "data": {
      "text/plain": [
       "{(2, 1): 0.2,\n",
       " (2, 3): 0.13333333333333333,\n",
       " (4, 2): 0.13333333333333333,\n",
       " (4, 3): 0.06666666666666667,\n",
       " (5, 6): 0.06666666666666667}"
      ]
     },
     "execution_count": 18,
     "metadata": {},
     "output_type": "execute_result"
    }
   ],
   "source": [
    "nx.edge_betweenness_centrality(gtest)"
   ]
  },
  {
   "cell_type": "code",
   "execution_count": 19,
   "metadata": {
    "collapsed": false
   },
   "outputs": [
    {
     "data": {
      "text/plain": [
       "{1: 0.0, 2: 0.2, 3: 0.0, 4: 0.0, 5: 0.0, 6: 0.0}"
      ]
     },
     "execution_count": 19,
     "metadata": {},
     "output_type": "execute_result"
    }
   ],
   "source": [
    "nx.betweenness_centrality(gtest)"
   ]
  },
  {
   "cell_type": "code",
   "execution_count": 20,
   "metadata": {
    "collapsed": true
   },
   "outputs": [],
   "source": [
    "gtest2 = nx.Graph()"
   ]
  },
  {
   "cell_type": "code",
   "execution_count": 21,
   "metadata": {
    "collapsed": true
   },
   "outputs": [],
   "source": [
    "gtest2.add_edge(1, 2)\n",
    "gtest2.add_edge(2, 3)\n",
    "gtest2.add_edge(3, 4)\n",
    "gtest2.add_edge(4, 5)"
   ]
  },
  {
   "cell_type": "code",
   "execution_count": 22,
   "metadata": {
    "collapsed": false
   },
   "outputs": [
    {
     "data": {
      "text/plain": [
       "{(1, 2): 0.4,\n",
       " (2, 3): 0.6000000000000001,\n",
       " (3, 4): 0.6000000000000001,\n",
       " (4, 5): 0.4}"
      ]
     },
     "execution_count": 22,
     "metadata": {},
     "output_type": "execute_result"
    }
   ],
   "source": [
    "nx.edge_betweenness_centrality(gtest2)"
   ]
  },
  {
   "cell_type": "code",
   "execution_count": 23,
   "metadata": {
    "collapsed": false
   },
   "outputs": [
    {
     "data": {
      "text/plain": [
       "{1: 0.0, 2: 0.5, 3: 0.6666666666666666, 4: 0.5, 5: 0.0}"
      ]
     },
     "execution_count": 23,
     "metadata": {},
     "output_type": "execute_result"
    }
   ],
   "source": [
    "nx.betweenness_centrality(gtest2)"
   ]
  },
  {
   "cell_type": "markdown",
   "metadata": {},
   "source": [
    "## Closennes Distribution"
   ]
  },
  {
   "cell_type": "code",
   "execution_count": 24,
   "metadata": {
    "collapsed": false
   },
   "outputs": [
    {
     "data": {
      "text/plain": [
       "{1: 0.36,\n",
       " 2: 0.6,\n",
       " 3: 0.44999999999999996,\n",
       " 4: 0.44999999999999996,\n",
       " 5: 0.2,\n",
       " 6: 0.2}"
      ]
     },
     "execution_count": 24,
     "metadata": {},
     "output_type": "execute_result"
    }
   ],
   "source": [
    "nx.closeness_centrality(gtest)"
   ]
  },
  {
   "cell_type": "code",
   "execution_count": 26,
   "metadata": {
    "collapsed": false
   },
   "outputs": [
    {
     "data": {
      "text/plain": [
       "{1: 0.4,\n",
       " 2: 0.5714285714285714,\n",
       " 3: 0.6666666666666666,\n",
       " 4: 0.5714285714285714,\n",
       " 5: 0.4}"
      ]
     },
     "execution_count": 26,
     "metadata": {},
     "output_type": "execute_result"
    }
   ],
   "source": [
    "nx.closeness_centrality(gtest2)"
   ]
  },
  {
   "cell_type": "code",
   "execution_count": 35,
   "metadata": {
    "collapsed": false
   },
   "outputs": [
    {
     "data": {
      "text/plain": [
       "{1: 4, 2: 3, 3: 2, 4: 3, 5: 4}"
      ]
     },
     "execution_count": 35,
     "metadata": {},
     "output_type": "execute_result"
    }
   ],
   "source": [
    "nx.eccentricity(gtest2)"
   ]
  },
  {
   "cell_type": "code",
   "execution_count": null,
   "metadata": {
    "collapsed": true
   },
   "outputs": [],
   "source": []
  }
 ],
 "metadata": {
  "kernelspec": {
   "display_name": "Python 3",
   "language": "python",
   "name": "python3"
  },
  "language_info": {
   "codemirror_mode": {
    "name": "ipython",
    "version": 3
   },
   "file_extension": ".py",
   "mimetype": "text/x-python",
   "name": "python",
   "nbconvert_exporter": "python",
   "pygments_lexer": "ipython3",
   "version": "3.6.0"
  }
 },
 "nbformat": 4,
 "nbformat_minor": 2
}
