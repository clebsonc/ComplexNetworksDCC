{
 "cells": [
  {
   "cell_type": "markdown",
   "metadata": {},
   "source": [
    "## Importing Libraries"
   ]
  },
  {
   "cell_type": "code",
   "execution_count": 1,
   "metadata": {
    "collapsed": true
   },
   "outputs": [],
   "source": [
    "import networkx as nx\n",
    "import matplotlib.pyplot as plt\n",
    "plt.style.use('classic')\n",
    "%matplotlib inline\n",
    "import seaborn as sb\n",
    "import pandas as pd"
   ]
  },
  {
   "cell_type": "markdown",
   "metadata": {},
   "source": [
    "## Reading Some Graphs"
   ]
  },
  {
   "cell_type": "code",
   "execution_count": 2,
   "metadata": {
    "collapsed": true
   },
   "outputs": [],
   "source": [
    "gEmailEn = nx.read_edgelist('./Email-Enron.txt', comments=\"#\", delimiter=\"\\t\", create_using=nx.Graph())\n",
    "gAstroPh = nx.read_edgelist('./CA-AstroPh.txt', comments='#', delimiter='\\t', create_using=nx.Graph())"
   ]
  },
  {
   "cell_type": "markdown",
   "metadata": {},
   "source": [
    "## Node Degree\n",
    "\n",
    "The node degree corresponds to the amount of neighbors that is linked to a node. It varies according to the following two properties:\n",
    "* Undirected Graph: Is the amount of edges that connect a node $k_{i}$ to its neighbors.\n",
    "* Directed Graph: Is the amount of incoming and outgoing edges of a Node. Thus, the degree of a node $k_i$ is $k_{i}^{out}+k_{i}^{in}$.\n",
    "\n",
    "To retrieve the degree of each node is quite simple using networkx, the only thing necessary is to call the builtin function `networkx.degree()` in the library. The function receives as argument a graph and as a result returns a dictionary containing the degree of each node."
   ]
  },
  {
   "cell_type": "code",
   "execution_count": null,
   "metadata": {},
   "outputs": [],
   "source": [
    "degreeEm = pd.DataFrame(pd.Series(nx.degree(gEmailEn)), columns=[\"Degree\"])\n",
    "degreeAs = pd.DataFrame(pd.Series(nx.degree(gAstroPh)), columns=[\"Degree\"])"
   ]
  },
  {
   "cell_type": "markdown",
   "metadata": {},
   "source": [
    "The degree distribution of a node denotes the number of k-degree nodes in a network. The easiest way of showing the distribution is plotting the histogram for the degrees. \n",
    "\n",
    "As we can see bellow, the node distribution for the Graph Email Enron shows that the higher percentage of nodes have a degree in the range $\\left[0, 150\\right]$. It's also possible to observe that the amount of nodes with degree in the range $\\left[1250, 1400\\right]$ is higher than the amount of nodes in the range $\\left[1100, 1250\\right)$.\n",
    "\n",
    "In contrast to the graph Email Enron, the distribution for the Astro Ph. graph shows that the higher percentage of nodes have a degree in the range $\\left[0, 50\\right]$."
   ]
  },
  {
   "cell_type": "code",
   "execution_count": 5,
   "metadata": {},
   "outputs": [
    {
     "data": {
      "text/plain": [
       "<matplotlib.text.Text at 0x7f79beaf4588>"
      ]
     },
     "execution_count": 5,
     "metadata": {},
     "output_type": "execute_result"
    },
    {
     "data": {
      "image/png": "[encoded data removed]",
      "text/plain": [
       "<matplotlib.figure.Figure at 0x7f79bebb4d30>"
      ]
     },
     "metadata": {},
     "output_type": "display_data"
    }
   ],
   "source": [
    "fig, ax = plt.subplots(nrows=1, ncols=2)\n",
    "ax[0].hist(degreeEm['Degree'], alpha=0.5, normed=True, stacked=True, log=True)\n",
    "ax[0].set_title('Degree Dist. Email')\n",
    "ax[1].hist(degreeAs['Degree'], alpha=0.5, normed=True, stacked=True, log=True)\n",
    "ax[1].set_title('Degree Astro Ph.')"
   ]
  },
  {
   "cell_type": "markdown",
   "metadata": {
    "collapsed": true
   },
   "source": [
    "## Clustering Coefficients"
   ]
  },
  {
   "cell_type": "markdown",
   "metadata": {},
   "source": [
    "The clustering coefficient captures the degree to which the neighbors of a given node link to each other. In other words, for unweighted graphs, the degree of a node $\\textit{u}$ is the fraction of possible triangles through that node that exist. In `networkx`, the following equations is used:\n",
    "<center>$c_{u} = \\frac{2T(u)}{deg(u)(deg(u) - 1)}$</center>\n",
    "where $T(u)$ is the number of triangles through\n"
   ]
  },
  {
   "cell_type": "code",
   "execution_count": 6,
   "metadata": {
    "collapsed": true
   },
   "outputs": [],
   "source": [
    "clusteringEm = nx.clustering(gEmailEn)\n",
    "clusteringAs = nx.clustering(gAstroPh)"
   ]
  },
  {
   "cell_type": "code",
   "execution_count": 7,
   "metadata": {
    "collapsed": true
   },
   "outputs": [],
   "source": [
    "clusteringEm = pd.DataFrame(pd.Series(clusteringEm), \n",
    "                            columns=[\"Clust.Coeff.\"])\n",
    "clusteringAs = pd.DataFrame(pd.Series(clusteringAs), \n",
    "                            columns=[\"Clust.Coeff.\"])"
   ]
  },
  {
   "cell_type": "code",
   "execution_count": 8,
   "metadata": {},
   "outputs": [
    {
     "data": {
      "text/plain": [
       "<matplotlib.text.Text at 0x7f79b91cab70>"
      ]
     },
     "execution_count": 8,
     "metadata": {},
     "output_type": "execute_result"
    },
    {
     "data": {
      "image/png": "[encoded data removed]",
      "text/plain": [
       "<matplotlib.figure.Figure at 0x7f79b8f41240>"
      ]
     },
     "metadata": {},
     "output_type": "display_data"
    }
   ],
   "source": [
    "fig, ax = plt.subplots(nrows=1, ncols=2)\n",
    "ax[0].hist(clusteringEm['Clust.Coeff.'], normed=True, alpha=0.5, log=True)\n",
    "ax[0].set_title('Clus. Coef. Email')\n",
    "ax[1].hist(clusteringAs['Clust.Coeff.'], normed=True, alpha=0.5, log=True)\n",
    "ax[1].set_title('Clus. Coef. Astro Ph.')"
   ]
  },
  {
   "cell_type": "markdown",
   "metadata": {},
   "source": [
    "## Number of Connected Components and Their Sizes"
   ]
  },
  {
   "cell_type": "code",
   "execution_count": 9,
   "metadata": {
    "collapsed": true
   },
   "outputs": [],
   "source": [
    "number_components_em = nx.number_connected_components(gEmailEn)\n",
    "number_components_as = nx.number_connected_components(gAstroPh)"
   ]
  },
  {
   "cell_type": "code",
   "execution_count": 10,
   "metadata": {},
   "outputs": [
    {
     "name": "stdout",
     "output_type": "stream",
     "text": [
      "Number Components Email Enron: 1065\n",
      "Number Components Astro Ph.: 290\n"
     ]
    }
   ],
   "source": [
    "print(\"Number Components Email Enron:\", number_components_em)\n",
    "print(\"Number Components Astro Ph.:\", number_components_as)"
   ]
  },
  {
   "cell_type": "code",
   "execution_count": 11,
   "metadata": {},
   "outputs": [
    {
     "data": {
      "text/plain": [
       "<matplotlib.text.Text at 0x7f79b16b5470>"
      ]
     },
     "execution_count": 11,
     "metadata": {},
     "output_type": "execute_result"
    },
    {
     "data": {
      "image/png": "[encoded data removed]",
      "text/plain": [
       "<matplotlib.figure.Figure at 0x7f79b8d0f438>"
      ]
     },
     "metadata": {},
     "output_type": "display_data"
    }
   ],
   "source": [
    "con_comp_em = list(nx.connected_component_subgraphs(gEmailEn))\n",
    "con_comp_as = list(nx.connected_component_subgraphs(gAstroPh))\n",
    "scon_comp_em = [nx.number_of_nodes(con_comp_em[x])  for x in range(0, len(con_comp_em), 1)]\n",
    "scon_comp_as = [nx.number_of_nodes(con_comp_as[x])  for x in range(0, len(con_comp_as), 1)]\n",
    "fig, ax = plt.subplots(nrows=1, ncols=2)\n",
    "ax[0].hist(scon_comp_em, normed=True, stacked=True, log=True,  alpha=0.5)\n",
    "ax[0].set_title('Histogram Component Sizes:\\nEmail Enron')\n",
    "ax[1].hist(scon_comp_as, normed=True, stacked=True, log=True,  alpha=0.5)\n",
    "ax[1].set_title('Histogram Component Sizes:\\nAstro Ph.')"
   ]
  },
  {
   "cell_type": "code",
   "execution_count": 12,
   "metadata": {},
   "outputs": [],
   "source": [
    "betweenness_centrality_em = nx.betweenness_centrality(gEmailEn)\n",
    "betweenness_centrality_as = nx.betweenness_centrality(gAstroPh)"
   ]
  },
  {
   "cell_type": "code",
   "execution_count": 14,
   "metadata": {},
   "outputs": [
    {
     "ename": "NameError",
     "evalue": "name 'betweenness_centrality_am' is not defined",
     "output_type": "error",
     "traceback": [
      "\u001b[0;31m---------------------------------------------------------------------------\u001b[0m",
      "\u001b[0;31mNameError\u001b[0m                                 Traceback (most recent call last)",
      "\u001b[0;32m<ipython-input-14-3c6ac7a32566>\u001b[0m in \u001b[0;36m<module>\u001b[0;34m()\u001b[0m\n\u001b[0;32m----> 1\u001b[0;31m \u001b[0mbet_centrality_ca\u001b[0m \u001b[0;34m=\u001b[0m \u001b[0mpd\u001b[0m\u001b[0;34m.\u001b[0m\u001b[0mDataFrame\u001b[0m\u001b[0;34m(\u001b[0m\u001b[0mpd\u001b[0m\u001b[0;34m.\u001b[0m\u001b[0mSeries\u001b[0m\u001b[0;34m(\u001b[0m\u001b[0mbetweenness_centrality_am\u001b[0m\u001b[0;34m)\u001b[0m\u001b[0;34m,\u001b[0m \u001b[0mcolumns\u001b[0m\u001b[0;34m=\u001b[0m\u001b[0;34m[\u001b[0m\u001b[0;34m\"Bet.Centrality\"\u001b[0m\u001b[0;34m]\u001b[0m\u001b[0;34m)\u001b[0m\u001b[0;34m\u001b[0m\u001b[0m\n\u001b[0m\u001b[1;32m      2\u001b[0m \u001b[0mbet_centrality_tx\u001b[0m \u001b[0;34m=\u001b[0m \u001b[0mpd\u001b[0m\u001b[0;34m.\u001b[0m\u001b[0mDataFrame\u001b[0m\u001b[0;34m(\u001b[0m\u001b[0mpd\u001b[0m\u001b[0;34m.\u001b[0m\u001b[0mSeries\u001b[0m\u001b[0;34m(\u001b[0m\u001b[0mbetweenness_centrality_as\u001b[0m\u001b[0;34m)\u001b[0m\u001b[0;34m,\u001b[0m \u001b[0mcolumns\u001b[0m\u001b[0;34m=\u001b[0m\u001b[0;34m[\u001b[0m\u001b[0;34m'Bet.Centrality'\u001b[0m\u001b[0;34m]\u001b[0m\u001b[0;34m)\u001b[0m\u001b[0;34m\u001b[0m\u001b[0m\n",
      "\u001b[0;31mNameError\u001b[0m: name 'betweenness_centrality_am' is not defined"
     ]
    }
   ],
   "source": [
    "bet_centrality_ca = pd.DataFrame(pd.Series(betweenness_centrality_am), columns=[\"Bet.Centrality\"])\n",
    "bet_centrality_tx = pd.DataFrame(pd.Series(betweenness_centrality_as), columns=['Bet.Centrality'])"
   ]
  },
  {
   "cell_type": "code",
   "execution_count": null,
   "metadata": {},
   "outputs": [],
   "source": [
    "fig, ax = plt.subplots(nrows=1, ncols=2)\n",
    "ax[0].hist(bet_centrality_ca['Bet.Centrality'], normed=True, log=True, stacked=True, alpha=0.5)\n",
    "ax[0].set_title(\"Betweenness Centrality\\nCalifornia\")\n",
    "ax[1].hist(bet_centrality_tx['Bet.Centrality'], normed=True, log=True, stacked=True, alpha=0.5)\n",
    "ax[1].set_title(\"Betweenness Centrality\\nTexas\")"
   ]
  },
  {
   "cell_type": "markdown",
   "metadata": {},
   "source": [
    "# Closeness Centrality"
   ]
  },
  {
   "cell_type": "code",
   "execution_count": null,
   "metadata": {},
   "outputs": [],
   "source": [
    "closenness_centrality_ca = nx.closeness_centrality(gRoadNetCa)\n",
    "closenness_centrality_tx = nx.closeness_centrality(gRoadNetTx)"
   ]
  },
  {
   "cell_type": "code",
   "execution_count": null,
   "metadata": {
    "collapsed": true
   },
   "outputs": [],
   "source": []
  }
 ],
 "metadata": {
  "kernelspec": {
   "display_name": "Python 3",
   "language": "python",
   "name": "python3"
  },
  "language_info": {
   "codemirror_mode": {
    "name": "ipython",
    "version": 3
   },
   "file_extension": ".py",
   "mimetype": "text/x-python",
   "name": "python",
   "nbconvert_exporter": "python",
   "pygments_lexer": "ipython3",
   "version": "3.6.0"
  }
 },
 "nbformat": 4,
 "nbformat_minor": 2
}
