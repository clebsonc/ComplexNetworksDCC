{
 "cells": [
  {
   "cell_type": "markdown",
   "metadata": {},
   "source": [
    "## Importing Libraries"
   ]
  },
  {
   "cell_type": "code",
   "execution_count": 1,
   "metadata": {
    "collapsed": true
   },
   "outputs": [],
   "source": [
    "import networkx as nx\n",
    "import matplotlib.pyplot as plt\n",
    "plt.style.use('classic')\n",
    "%matplotlib inline\n",
    "import seaborn as sb\n",
    "import pandas as pd"
   ]
  },
  {
   "cell_type": "markdown",
   "metadata": {},
   "source": [
    "## Reading Some Graphs"
   ]
  },
  {
   "cell_type": "code",
   "execution_count": 2,
   "metadata": {
    "collapsed": true
   },
   "outputs": [],
   "source": [
    "gRoadNetCa = nx.read_edgelist('./roadNet-CA.txt', comments=\"#\", delimiter=\"\\t\", create_using=nx.Graph())\n",
    "gRoadNetTx = nx.read_edgelist('./roadNet-TX.txt', comments='#', delimiter='\\t', create_using=nx.Graph())"
   ]
  },
  {
   "cell_type": "markdown",
   "metadata": {},
   "source": [
    "## Node Degree\n",
    "\n",
    "The node degree corresponds to the amount of neighbors that is linked to a node. It varies according to the following two properties:\n",
    "* Undirected Graph: Is the amount of edges that connect a node $k_{i}$ to its neighbors.\n",
    "* Directed Graph: Is the amount of incoming and outgoing edges of a Node. Thus the degree of a node is $k_i=k_{i}^{out}+k_{i}^{in}$.\n",
    "\n",
    "To retrieve the degree of each node is quite simple using networkx, the only thing necessary is to call the built-in function `networkx.degree()` in the library. The functin receives as argument a graph and as a result returns a dictionary containing the degree of each node.\n"
   ]
  },
  {
   "cell_type": "code",
   "execution_count": 3,
   "metadata": {
    "collapsed": true
   },
   "outputs": [],
   "source": [
    "degreeCa = pd.DataFrame(pd.Series(nx.degree(gRoadNetCa)), columns=[\"Degree\"])\n",
    "degreeTx = pd.DataFrame(pd.Series(nx.degree(gRoadNetTx)), columns=[\"Degree\"])"
   ]
  },
  {
   "cell_type": "code",
   "execution_count": 4,
   "metadata": {
    "collapsed": true
   },
   "outputs": [],
   "source": [
    "#degreeCa.index = [x for x in range(0, len(degreeCa), 1)]\n",
    "#degreeTx.index = [x for x in range(0, len(degreeTx), 1)]"
   ]
  },
  {
   "cell_type": "code",
   "execution_count": 5,
   "metadata": {},
   "outputs": [
    {
     "data": {
      "text/plain": [
       "<matplotlib.text.Text at 0x7f4dd0ea0a58>"
      ]
     },
     "execution_count": 5,
     "metadata": {},
     "output_type": "execute_result"
    },
    {
     "data": {
      "image/png": "[encoded data removed]",
      "text/plain": [
       "<matplotlib.figure.Figure at 0x7f4dd0f648d0>"
      ]
     },
     "metadata": {},
     "output_type": "display_data"
    }
   ],
   "source": [
    "fig, ax = plt.subplots(nrows=1, ncols=2)\n",
    "ax[0].hist(degreeCa['Degree'], normed=True, alpha=0.5, stacked=True, log=True)\n",
    "ax[0].set_title('Degree Dist. Road Net Cal.')\n",
    "ax[1].hist(degreeTx['Degree'], normed=True, alpha=0.5, stacked=True, log=True)\n",
    "ax[1].set_title('Degree Dist. Road Net Tex.')"
   ]
  },
  {
   "cell_type": "markdown",
   "metadata": {
    "collapsed": true
   },
   "source": [
    "## Clustering Coefficients"
   ]
  },
  {
   "cell_type": "code",
   "execution_count": 6,
   "metadata": {
    "collapsed": true
   },
   "outputs": [],
   "source": [
    "clusteringCa = nx.clustering(gRoadNetCa)\n",
    "clusteringTx = nx.clustering(gRoadNetTx)"
   ]
  },
  {
   "cell_type": "code",
   "execution_count": 7,
   "metadata": {
    "collapsed": true
   },
   "outputs": [],
   "source": [
    "clusteringCa = pd.DataFrame(pd.Series(clusteringCa), \n",
    "                            columns=[\"Clust.Coeff.\"])\n",
    "clusteringTx = pd.DataFrame(pd.Series(clusteringTx), \n",
    "                            columns=[\"Clust.Coeff.\"])"
   ]
  },
  {
   "cell_type": "code",
   "execution_count": 8,
   "metadata": {},
   "outputs": [
    {
     "data": {
      "text/plain": [
       "<matplotlib.text.Text at 0x7f4dca8b75c0>"
      ]
     },
     "execution_count": 8,
     "metadata": {},
     "output_type": "execute_result"
    },
    {
     "data": {
      "image/png": "[encoded data removed]",
      "text/plain": [
       "<matplotlib.figure.Figure at 0x7f4dcb347240>"
      ]
     },
     "metadata": {},
     "output_type": "display_data"
    }
   ],
   "source": [
    "fig, ax = plt.subplots(nrows=1, ncols=2)\n",
    "ax[0].hist(clusteringCa['Clust.Coeff.'], normed=True, alpha=0.5, log=True)\n",
    "ax[0].set_title('Clus. Coef. Cal.')\n",
    "ax[1].hist(clusteringTx['Clust.Coeff.'], normed=True, alpha=0.5, log=True)\n",
    "ax[1].set_title('Clus. Coef. Tex.')"
   ]
  },
  {
   "cell_type": "markdown",
   "metadata": {},
   "source": [
    "## Number of Connected Components and Their Sizes"
   ]
  },
  {
   "cell_type": "code",
   "execution_count": 9,
   "metadata": {
    "collapsed": true
   },
   "outputs": [],
   "source": [
    "number_components_ca = nx.number_connected_components(gRoadNetCa)\n",
    "number_components_tx = nx.number_connected_components(gRoadNetTx)"
   ]
  },
  {
   "cell_type": "code",
   "execution_count": 10,
   "metadata": {},
   "outputs": [
    {
     "name": "stdout",
     "output_type": "stream",
     "text": [
      "Number Components California: 2638\n",
      "Number Components Texas: 424\n"
     ]
    }
   ],
   "source": [
    "print(\"Number Components California:\", number_components_ca)\n",
    "print(\"Number Components Texas:\", number_components_tx)"
   ]
  },
  {
   "cell_type": "code",
   "execution_count": 14,
   "metadata": {},
   "outputs": [
    {
     "data": {
      "text/plain": [
       "<matplotlib.text.Text at 0x7f4dcb0006a0>"
      ]
     },
     "execution_count": 14,
     "metadata": {},
     "output_type": "execute_result"
    },
    {
     "data": {
      "image/png": "[encoded data removed]",
      "text/plain": [
       "<matplotlib.figure.Figure at 0x7f4dcb411358>"
      ]
     },
     "metadata": {},
     "output_type": "display_data"
    }
   ],
   "source": [
    "con_comp_ca = list(nx.connected_component_subgraphs(gRoadNetCa))\n",
    "con_comp_tx = list(nx.connected_component_subgraphs(gRoadNetTx))\n",
    "scon_comp_ca = [nx.number_of_nodes(con_comp_ca[x])  for x in range(0, len(con_comp_ca), 1)]\n",
    "scon_comp_tx = [nx.number_of_nodes(con_comp_tx[x])  for x in range(0, len(con_comp_tx), 1)]\n",
    "fig, ax = plt.subplots(nrows=1, ncols=2)\n",
    "ax[0].hist(scon_comp_ca, normed=True, stacked=True, log=True,  alpha=0.5)\n",
    "ax[0].set_title('Histogram Component Sizes:\\nCalifornia')\n",
    "ax[1].hist(scon_comp_tx, normed=True, stacked=True, log=True,  alpha=0.5)\n",
    "ax[1].set_title('Histogram Component Sizes:\\nTexas')"
   ]
  },
  {
   "cell_type": "code",
   "execution_count": 25,
   "metadata": {},
   "outputs": [],
   "source": [
    "betweenness_centrality_ca = nx.betweenness_centrality(gRoadNetCa, k=100)\n",
    "betweenness_centrality_tx = nx.betweenness_centrality(gRoadNetTx, k=100)"
   ]
  },
  {
   "cell_type": "code",
   "execution_count": 31,
   "metadata": {},
   "outputs": [],
   "source": [
    "bet_centrality_ca = pd.DataFrame(pd.Series(betweenness_centrality_ca), columns=[\"Bet.Centrality\"])\n",
    "bet_centrality_tx = pd.DataFrame(pd.Series(betweenness_centrality_tx), columns=['Bet.Centrality'])"
   ]
  },
  {
   "cell_type": "code",
   "execution_count": 39,
   "metadata": {},
   "outputs": [
    {
     "data": {
      "text/plain": [
       "<matplotlib.text.Text at 0x7f4dbe871710>"
      ]
     },
     "execution_count": 39,
     "metadata": {},
     "output_type": "execute_result"
    },
    {
     "data": {
      "image/png": "[encoded data removed]",
      "text/plain": [
       "<matplotlib.figure.Figure at 0x7f4cd7722a90>"
      ]
     },
     "metadata": {},
     "output_type": "display_data"
    }
   ],
   "source": [
    "fig, ax = plt.subplots(nrows=1, ncols=2)\n",
    "ax[0].hist(bet_centrality_ca['Bet.Centrality'], normed=True, log=True, stacked=True, alpha=0.5)\n",
    "ax[0].set_title(\"Betweenness Centrality\\nCalifornia\")\n",
    "ax[1].hist(bet_centrality_tx['Bet.Centrality'], normed=True, log=True, stacked=True, alpha=0.5)\n",
    "ax[1].set_title(\"Betweenness Centrality\\nTexas\")"
   ]
  },
  {
   "cell_type": "markdown",
   "metadata": {},
   "source": [
    "# Closeness Centrality"
   ]
  },
  {
   "cell_type": "code",
   "execution_count": null,
   "metadata": {
    "collapsed": true
   },
   "outputs": [],
   "source": [
    "closenness_centrality_ca = nx.closeness_centrality(gRoadNetCa)\n",
    "closenness_centrality_tx = nx.closeness_centrality(gRoadNetTx)"
   ]
  },
  {
   "cell_type": "code",
   "execution_count": 29,
   "metadata": {},
   "outputs": [],
   "source": []
  },
  {
   "cell_type": "code",
   "execution_count": null,
   "metadata": {
    "collapsed": true
   },
   "outputs": [],
   "source": []
  }
 ],
 "metadata": {
  "kernelspec": {
   "display_name": "Python 3",
   "language": "python",
   "name": "python3"
  },
  "language_info": {
   "codemirror_mode": {
    "name": "ipython",
    "version": 3
   },
   "file_extension": ".py",
   "mimetype": "text/x-python",
   "name": "python",
   "nbconvert_exporter": "python",
   "pygments_lexer": "ipython3",
   "version": "3.6.0"
  }
 },
 "nbformat": 4,
 "nbformat_minor": 2
}
